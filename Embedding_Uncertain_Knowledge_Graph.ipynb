{
  "nbformat": 4,
  "nbformat_minor": 0,
  "metadata": {
    "colab": {
      "name": "Embedding_Uncertain_Knowledge_Graph.ipynb",
      "provenance": [],
      "collapsed_sections": [],
      "authorship_tag": "ABX9TyM+P8oVUy6jvOy9px8VlBtd",
      "include_colab_link": true
    },
    "kernelspec": {
      "name": "python3",
      "display_name": "Python 3"
    }
  },
  "cells": [
    {
      "cell_type": "markdown",
      "metadata": {
        "id": "view-in-github",
        "colab_type": "text"
      },
      "source": [
        "<a href=\"https://colab.research.google.com/github/odean111/KnowledgeGraph/blob/main/Embedding_Uncertain_Knowledge_Graph.ipynb\" target=\"_parent\"><img src=\"https://colab.research.google.com/assets/colab-badge.svg\" alt=\"Open In Colab\"/></a>"
      ]
    },
    {
      "cell_type": "markdown",
      "metadata": {
        "id": "OTeajDtRZkD6"
      },
      "source": [
        "Import TSV File"
      ]
    },
    {
      "cell_type": "code",
      "metadata": {
        "id": "VaTUel7BYv8g"
      },
      "source": [
        "## Extract TSV and put into a dataframe\n",
        "\n",
        "import csv\n",
        "import pandas as pd\n",
        "\n",
        "tsv_file = open(\"Knowledge Graph - Known Relationship.tsv\")\n",
        "kg = csv.reader(tsv_file, delimiter=\"\\t\")\n",
        "cols = ['ent_1', 'ent_2', 'rel', 'conf']\n",
        "\n",
        "ls_kg = []\n",
        "for row in kg:\n",
        "  ls_kg.append(row)\n",
        "\n",
        "df_kg = pd.DataFrame(data=ls_kg, columns=cols)"
      ],
      "execution_count": 93,
      "outputs": []
    },
    {
      "cell_type": "markdown",
      "metadata": {
        "id": "FGWoNoU6eqW_"
      },
      "source": [
        "Create Set of Ground Truths - based on AND transivity\n"
      ]
    },
    {
      "cell_type": "code",
      "metadata": {
        "id": "x2Z4ycmcuoHc"
      },
      "source": [
        "# import required packages\n",
        "import itertools\n",
        "\n",
        "\n",
        "# return a list of the nodes\n",
        "def unique_ent(df_input):\n",
        "  unq_ent_1 = df_input.ent_1.unique()\n",
        "  unq_ent_2 = df_input.ent_2.unique()\n",
        "  unq_ent = np.unique(np.concatenate((unq_ent_1, unq_ent_2)))\n",
        "  return unq_ent\n",
        "\n",
        "\n",
        "# Create a dataframe of all, return a dataframe \n",
        "def return_near_nodes(input_node, df_input):\n",
        "  ent_1_df = df_input.loc[df['ent_1'] == input_node]\n",
        "  ent_2_df = df_input.loc[df['ent_2'] == input_node]\n",
        "  df_rel = pd.concat([ent_2_df, ent_1_df])\n",
        "  df_near_ents = unique_ent(df_rel)\n",
        "  np_near_nodes = np.delete(df_near_ents, np.where(df_near_ents == input_node))\n",
        "  # return df_rel, np_near_ents\n",
        "  return np_near_nodes\n",
        "\n",
        "\n",
        "# Return list of unseen relationships\n",
        "def return_unseen_relationships(np_near_ents, df_input):\n",
        "  unseen_relationships = []\n",
        "  combinations = itertools.combinations(np_near_ents, 2)\n",
        "  for relationships in combinations:\n",
        "    if len(df_input.loc[df_input['ent_1'] == relationships[0]].loc[df_input['ent_2'] == relationships[1]]) > 0:\n",
        "      pass\n",
        "    elif len(df_input.loc[df_input['ent_1'] == relationships[1]].loc[df_input['ent_2'] == relationships[0]]) > 0:\n",
        "      pass\n",
        "    else:\n",
        "      unseen_relationships.append(relationships)\n",
        "  return unseen_relationships\n",
        "    \n",
        "    \n",
        "# Calculate truth value via an intermediatary node\n",
        "def truth_val_calc(unseen_relationships, df_input, central_node):\n",
        "  \n",
        "  ls_rel_tvals = []\n",
        "  for ele in unseen_relationships:\n",
        "    ent_1 = ele[0]\n",
        "    ent_2 = ele[1]\n",
        "    if len(df_input.loc[df_input['ent_1'] == ent_1].loc[df_input['ent_2'] == central_node]['conf'].tolist()) > 0:\n",
        "      tval_1 = df_input.loc[df_input['ent_1'] == ent_1].loc[df_input['ent_2'] == central_node]['conf'].tolist()[0]\n",
        "    elif len(df_input.loc[df_input['ent_2'] == ent_1].loc[df_input['ent_1'] == central_node]['conf'].tolist()) > 0:\n",
        "      tval_1 = df_input.loc[df_input['ent_2'] == ent_1].loc[df_input['ent_1'] == central_node]['conf'].tolist()[0]\n",
        "\n",
        "    if len(df_input.loc[df_input['ent_1'] == ent_2].loc[df_input['ent_2'] == central_node]['conf'].tolist()) > 0:\n",
        "      tval_2 = df_input.loc[df_input['ent_1'] == ent_2].loc[df_input['ent_2'] == central_node]['conf'].tolist()[0]\n",
        "    elif len(df_input.loc[df_input['ent_2'] == ent_2].loc[df_input['ent_1'] == central_node]['conf'].tolist()) > 0:\n",
        "      tval_2 = df_input.loc[df_input['ent_2'] == ent_2].loc[df_input['ent_1'] == central_node]['conf'].tolist()[0]\n",
        "    relationship_vals = [ent_1, ent_2, float(tval_1) + float(tval_2)]\n",
        "    ls_rel_tvals.append(relationship_vals)\n",
        "  \n",
        "  return ls_rel_tvals\n",
        "\n",
        "\n",
        "# Return a list of all unseen relationships and their minimum truth values (ground truths)\n",
        "def return_ground_truths(input_df):\n",
        "  unique_nodes = unique_ent(input_df).tolist()\n",
        "  unseen_relationships_ls = []\n",
        "  for node in unique_nodes:\n",
        "    near_nodes = return_near_nodes(node, input_df)\n",
        "    unseen_relationships = return_unseen_relationships(near_nodes, input_df)\n",
        "    unseen_relationships_ls.extend(truth_val_calc(unseen_relationships, input_df, node))\n",
        "  return unseen_relationships_ls"
      ],
      "execution_count": 189,
      "outputs": []
    },
    {
      "cell_type": "code",
      "metadata": {
        "id": "DUn9fOSw7lKe"
      },
      "source": [
        "ls_ground_truths = return_ground_truths(df_kg)"
      ],
      "execution_count": 191,
      "outputs": []
    },
    {
      "cell_type": "code",
      "metadata": {
        "id": "oAgn_YZjVy-J",
        "outputId": "34a9736c-8d77-4f35-c077-f13b04f8f790",
        "colab": {
          "base_uri": "https://localhost:8080/"
        }
      },
      "source": [
        "print(ls_ground_truths)\n",
        "print(ls_kg)\n",
        "for ele in ls_kg"
      ],
      "execution_count": 192,
      "outputs": [
        {
          "output_type": "stream",
          "text": [
            "[['Phoebe', 'Ross', 1.83], ['Joey', 'Monica', 1.76], ['Joey', 'Rachel', 1.87], ['Monica', 'Ross', 1.35], ['Phoebe', 'Ross', 1.4], ['Chandler', 'Joey', 1.73], ['Chandler', 'Rachel', 1.37], ['Joey', 'Rachel', 1.3599999999999999]]\n",
            "[['Rachel', 'Monica', 'Likes', '0.85'], ['Rachel', 'Phoebe', 'Likes', '0.9'], ['Rachel', 'Ross', 'Likes', '0.5'], ['Ross', 'Chandler', 'Likes', '0.87'], ['Ross', 'Joey', 'Likes', '0.86'], ['Joey', 'Phoebe', 'Likes', '0.97'], ['Monica', 'Phoebe', 'Likes', '0.79']]\n"
          ],
          "name": "stdout"
        }
      ]
    }
  ]
}